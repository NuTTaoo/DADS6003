{
  "nbformat": 4,
  "nbformat_minor": 0,
  "metadata": {
    "colab": {
      "provenance": [],
      "toc_visible": true,
      "authorship_tag": "ABX9TyPhvTCmgDNSU+FvI38UzuJl",
      "include_colab_link": true
    },
    "kernelspec": {
      "name": "python3",
      "display_name": "Python 3"
    },
    "language_info": {
      "name": "python"
    }
  },
  "cells": [
    {
      "cell_type": "markdown",
      "metadata": {
        "id": "view-in-github",
        "colab_type": "text"
      },
      "source": [
        "<a href=\"https://colab.research.google.com/github/NuTTaoo/DADS6003/blob/main/Hw2.ipynb\" target=\"_parent\"><img src=\"https://colab.research.google.com/assets/colab-badge.svg\" alt=\"Open In Colab\"/></a>"
      ]
    },
    {
      "cell_type": "markdown",
      "source": [
        "# SGD_Stochastic GD"
      ],
      "metadata": {
        "id": "LTjm6isKXHa2"
      }
    },
    {
      "cell_type": "code",
      "source": [
        "import numpy as np\n",
        "import matplotlib.pyplot as plt"
      ],
      "metadata": {
        "id": "UFLiZ7tPXH4u"
      },
      "execution_count": null,
      "outputs": []
    },
    {
      "cell_type": "code",
      "source": [
        "x = np.array([[0,1],[2,6],[3,8]])\n",
        "y = np.array([1,1,4])\n",
        "x = np.concatenate([np.ones((len(x),1)),x],axis=1)\n",
        "N = x.shape[0]\n",
        "#x_b = np.c_[np.ones((x.shape[0],1)),x]\n",
        "theta_init = np.zeros((3,1))\n",
        "learning_rate = 0.01\n",
        "num_iteration = 1000000\n",
        "\n",
        "#def cost_function(x,y,theta,N):\n",
        "    #y_hat = x.dot(theta)\n",
        "    #J = np.sum(np.square(y_hat - y))\n",
        "    #return J\n",
        "\n",
        "def gradient(x,y,theta,N):\n",
        "    y_hat = x.dot(theta)\n",
        "    grad = x.T.dot(y_hat - y)\n",
        "    return grad\n",
        "\n",
        "def stochasti_gradient_descent(x,y,theta_init,learning_rate,num_iteration,N):\n",
        "    theta = np.random.random((x.shape[1],1))\n",
        "    #print(theta)\n",
        "    for i in range (num_iteration):\n",
        "      rand_index = np.random.randint(0,N)\n",
        "      xi = np.array(x[rand_index]).reshape(1,-1)  #จุ่มเลือก 1 Row แบบ Random ตาม Concept SGD\n",
        "      yi = np.array(y[rand_index]).reshape(1,-1)  #จุ่มเลือก 1 Row แบบ Random ตาม Concept SGD\n",
        "      grad = gradient(xi,yi,theta,N)\n",
        "      theta = theta - learning_rate * grad\n",
        "\n",
        "    return theta\n",
        "theta = stochasti_gradient_descent(x,y,theta_init,learning_rate,num_iteration,N)\n",
        "print(theta)\n",
        "xtest = np.array([[4,9]])\n",
        "xtest_b = np.c_[np.ones((xtest.shape[0],1)),xtest]\n",
        "y_p = xtest_b.dot(theta)\n",
        "print(\"y predict = \", y_p)"
      ],
      "metadata": {
        "colab": {
          "base_uri": "https://localhost:8080/"
        },
        "id": "I_rETMA5XSfG",
        "outputId": "96964c06-b362-400e-ad30-da3be7e74cd1"
      },
      "execution_count": null,
      "outputs": [
        {
          "output_type": "stream",
          "name": "stdout",
          "text": [
            "[[ 7.]\n",
            " [15.]\n",
            " [-6.]]\n",
            "y predict =  [[13.]]\n"
          ]
        }
      ]
    },
    {
      "cell_type": "markdown",
      "source": [
        "# Mini-batch GD"
      ],
      "metadata": {
        "id": "c01Xu5D39xqE"
      }
    },
    {
      "cell_type": "code",
      "source": [
        "batch_size = 2\n",
        "def gradient_b(X_batch,y_batch,theta,N):\n",
        "    y_hat = X_batch.dot(theta)\n",
        "    grad = (1/batch_size)*X_batch.T.dot(y_hat - y_batch)\n",
        "    return grad\n",
        "\n",
        "def MiniB_gradient_descent(x,y,theta_init,learning_rate,num_iteration,N):\n",
        "  theta = np.random.random((x.shape[1],1))\n",
        "  #print(theta)\n",
        "  for epoch in range(num_iteration):\n",
        "    indices = np.random.permutation(N)\n",
        "    X_shuffled = x[indices]\n",
        "    y_shuffled = y[indices].reshape(-1, 1)\n",
        "    for i in range(0, N, batch_size):\n",
        "      X_batch = X_shuffled[i:i+batch_size]  #จุ่มเลือก Row ตาม Batch size ที่กำหนด batch_size = 2\n",
        "      y_batch = y_shuffled[i:i+batch_size]  #จุ่มเลือก Row ตาม Batch size ที่กำหนด batch_size = 2\n",
        "      #print(X_batch)\n",
        "      #print(y_batch)\n",
        "      grad = gradient_b(X_batch,y_batch,theta,N)\n",
        "      theta = theta - learning_rate * grad\n",
        "      #print(theta)\n",
        "      #print(grad)\n",
        "  return theta\n",
        "\n",
        "theta = MiniB_gradient_descent(x,y,theta_init,learning_rate,num_iteration,N)\n",
        "print(theta)\n",
        "xtest = np.array([[4,9]])\n",
        "xtest_b = np.c_[np.ones((xtest.shape[0],1)),xtest]\n",
        "y_p = xtest_b.dot(theta)\n",
        "print(\"y predict = \", y_p)"
      ],
      "metadata": {
        "colab": {
          "base_uri": "https://localhost:8080/"
        },
        "id": "h-ldU9sl-4Si",
        "outputId": "b180004d-f7f4-4f0b-85cd-ac3d4d00d466"
      },
      "execution_count": null,
      "outputs": [
        {
          "output_type": "stream",
          "name": "stdout",
          "text": [
            "[[ 7.]\n",
            " [15.]\n",
            " [-6.]]\n",
            "y predict =  [[13.]]\n"
          ]
        }
      ]
    },
    {
      "cell_type": "code",
      "source": [],
      "metadata": {
        "id": "L9o0uijzQgpm"
      },
      "execution_count": null,
      "outputs": []
    }
  ]
}